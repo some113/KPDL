{
 "cells": [
  {
   "cell_type": "markdown",
   "id": "1a77a8aa",
   "metadata": {
    "_cell_guid": "b1076dfc-b9ad-4769-8c92-a6c4dae69d19",
    "_uuid": "8f2839f25d086af736a60e9eeb907d3b93b6e0e5",
    "papermill": {
     "duration": 0.006591,
     "end_time": "2024-05-08T16:40:23.517986",
     "exception": false,
     "start_time": "2024-05-08T16:40:23.511395",
     "status": "completed"
    },
    "tags": []
   },
   "source": [
    "# This Python 3 environment comes with many helpful analytics libraries installed\n",
    "# It is defined by the kaggle/python Docker image: https://github.com/kaggle/docker-python\n",
    "# For example, here's several helpful packages to load\n",
    "\n",
    "import numpy as np # linear algebra\n",
    "import pandas as pd # data processing, CSV file I/O (e.g. pd.read_csv)\n",
    "\n",
    "# Input data files are available in the read-only \"../input/\" directory\n",
    "# For example, running this (by clicking run or pressing Shift+Enter) will list all files under the input directory\n",
    "\n",
    "import os\n",
    "for dirname, _, filenames in os.walk('/kaggle/input'):\n",
    "    for filename in filenames:\n",
    "        print(os.path.join(dirname, filename))\n",
    "\n",
    "# You can write up to 20GB to the current directory (/kaggle/working/) that gets preserved as output when you create a version using \"Save & Run All\" \n",
    "# You can also write temporary files to /kaggle/temp/, but they won't be saved outside of the current session"
   ]
  },
  {
   "cell_type": "code",
   "execution_count": 1,
   "id": "6c374782",
   "metadata": {
    "execution": {
     "iopub.execute_input": "2024-05-08T16:40:23.532824Z",
     "iopub.status.busy": "2024-05-08T16:40:23.531553Z",
     "iopub.status.idle": "2024-05-08T16:44:34.426193Z",
     "shell.execute_reply": "2024-05-08T16:44:34.423642Z"
    },
    "papermill": {
     "duration": 250.906092,
     "end_time": "2024-05-08T16:44:34.430285",
     "exception": false,
     "start_time": "2024-05-08T16:40:23.524193",
     "status": "completed"
    },
    "tags": []
   },
   "outputs": [
    {
     "name": "stdout",
     "output_type": "stream",
     "text": [
      "Collecting timm==0.4.12\r\n",
      "  Downloading timm-0.4.12-py3-none-any.whl.metadata (30 kB)\r\n",
      "Collecting einops==0.6.1\r\n",
      "  Downloading einops-0.6.1-py3-none-any.whl.metadata (12 kB)\r\n",
      "Collecting decord==0.6.0\r\n",
      "  Downloading decord-0.6.0-py3-none-manylinux2010_x86_64.whl.metadata (422 bytes)\r\n",
      "Collecting openmim==0.3.6\r\n",
      "  Downloading openmim-0.3.6-py2.py3-none-any.whl.metadata (16 kB)\r\n",
      "Collecting mmcv==1.7.1\r\n",
      "  Downloading mmcv-1.7.1.tar.gz (605 kB)\r\n",
      "\u001b[2K     \u001b[90m━━━━━━━━━━━━━━━━━━━━━━━━━━━━━━━━━━━━━━\u001b[0m \u001b[32m605.4/605.4 kB\u001b[0m \u001b[31m15.6 MB/s\u001b[0m eta \u001b[36m0:00:00\u001b[0m\r\n",
      "\u001b[?25h  Preparing metadata (setup.py) ... \u001b[?25l-\b \b\\\b \bdone\r\n",
      "\u001b[?25hCollecting scikit-learn==1.2.1\r\n",
      "  Downloading scikit_learn-1.2.1-cp310-cp310-manylinux_2_17_x86_64.manylinux2014_x86_64.whl.metadata (11 kB)\r\n",
      "Collecting scipy==1.10.0\r\n",
      "  Downloading scipy-1.10.0-cp310-cp310-manylinux_2_17_x86_64.manylinux2014_x86_64.whl.metadata (58 kB)\r\n",
      "\u001b[2K     \u001b[90m━━━━━━━━━━━━━━━━━━━━━━━━━━━━━━━━━━━━━━━━\u001b[0m \u001b[32m58.9/58.9 kB\u001b[0m \u001b[31m2.5 MB/s\u001b[0m eta \u001b[36m0:00:00\u001b[0m\r\n",
      "\u001b[?25hCollecting pandas==1.5.3\r\n",
      "  Downloading pandas-1.5.3-cp310-cp310-manylinux_2_17_x86_64.manylinux2014_x86_64.whl.metadata (11 kB)\r\n",
      "Collecting numpy==1.23.5\r\n",
      "  Downloading numpy-1.23.5-cp310-cp310-manylinux_2_17_x86_64.manylinux2014_x86_64.whl.metadata (2.3 kB)\r\n",
      "Collecting opencv-python==4.7.0.72\r\n",
      "  Downloading opencv_python-4.7.0.72-cp37-abi3-manylinux_2_17_x86_64.manylinux2014_x86_64.whl.metadata (18 kB)\r\n",
      "Collecting tensorboardX==2.6.1\r\n",
      "  Downloading tensorboardX-2.6.1-py2.py3-none-any.whl.metadata (5.6 kB)\r\n",
      "Requirement already satisfied: soundfile==0.12.1 in /opt/conda/lib/python3.10/site-packages (0.12.1)\r\n",
      "Requirement already satisfied: torch>=1.4 in /opt/conda/lib/python3.10/site-packages (from timm==0.4.12) (2.1.2+cpu)\r\n",
      "Requirement already satisfied: torchvision in /opt/conda/lib/python3.10/site-packages (from timm==0.4.12) (0.16.2+cpu)\r\n",
      "Requirement already satisfied: Click in /opt/conda/lib/python3.10/site-packages (from openmim==0.3.6) (8.1.7)\r\n",
      "Requirement already satisfied: colorama in /opt/conda/lib/python3.10/site-packages (from openmim==0.3.6) (0.4.6)\r\n",
      "Collecting model-index (from openmim==0.3.6)\r\n",
      "  Downloading model_index-0.1.11-py3-none-any.whl.metadata (3.9 kB)\r\n",
      "Requirement already satisfied: pip>=19.3 in /opt/conda/lib/python3.10/site-packages (from openmim==0.3.6) (23.3.2)\r\n",
      "Requirement already satisfied: requests in /opt/conda/lib/python3.10/site-packages (from openmim==0.3.6) (2.31.0)\r\n",
      "Requirement already satisfied: rich in /opt/conda/lib/python3.10/site-packages (from openmim==0.3.6) (13.7.0)\r\n",
      "Requirement already satisfied: tabulate in /opt/conda/lib/python3.10/site-packages (from openmim==0.3.6) (0.9.0)\r\n",
      "Collecting addict (from mmcv==1.7.1)\r\n",
      "  Downloading addict-2.4.0-py3-none-any.whl.metadata (1.0 kB)\r\n",
      "Requirement already satisfied: packaging in /opt/conda/lib/python3.10/site-packages (from mmcv==1.7.1) (21.3)\r\n",
      "Requirement already satisfied: Pillow in /opt/conda/lib/python3.10/site-packages (from mmcv==1.7.1) (9.5.0)\r\n",
      "Requirement already satisfied: pyyaml in /opt/conda/lib/python3.10/site-packages (from mmcv==1.7.1) (6.0.1)\r\n",
      "Requirement already satisfied: yapf in /opt/conda/lib/python3.10/site-packages (from mmcv==1.7.1) (0.40.2)\r\n",
      "Requirement already satisfied: joblib>=1.1.1 in /opt/conda/lib/python3.10/site-packages (from scikit-learn==1.2.1) (1.4.0)\r\n",
      "Requirement already satisfied: threadpoolctl>=2.0.0 in /opt/conda/lib/python3.10/site-packages (from scikit-learn==1.2.1) (3.2.0)\r\n",
      "Requirement already satisfied: python-dateutil>=2.8.1 in /opt/conda/lib/python3.10/site-packages (from pandas==1.5.3) (2.9.0.post0)\r\n",
      "Requirement already satisfied: pytz>=2020.1 in /opt/conda/lib/python3.10/site-packages (from pandas==1.5.3) (2023.3.post1)\r\n",
      "Collecting protobuf>=4.22.3 (from tensorboardX==2.6.1)\r\n",
      "  Downloading protobuf-5.26.1-cp37-abi3-manylinux2014_x86_64.whl.metadata (592 bytes)\r\n",
      "Requirement already satisfied: cffi>=1.0 in /opt/conda/lib/python3.10/site-packages (from soundfile==0.12.1) (1.16.0)\r\n",
      "Requirement already satisfied: pycparser in /opt/conda/lib/python3.10/site-packages (from cffi>=1.0->soundfile==0.12.1) (2.21)\r\n",
      "Requirement already satisfied: six>=1.5 in /opt/conda/lib/python3.10/site-packages (from python-dateutil>=2.8.1->pandas==1.5.3) (1.16.0)\r\n",
      "Requirement already satisfied: filelock in /opt/conda/lib/python3.10/site-packages (from torch>=1.4->timm==0.4.12) (3.13.1)\r\n",
      "Requirement already satisfied: typing-extensions in /opt/conda/lib/python3.10/site-packages (from torch>=1.4->timm==0.4.12) (4.9.0)\r\n",
      "Requirement already satisfied: sympy in /opt/conda/lib/python3.10/site-packages (from torch>=1.4->timm==0.4.12) (1.12)\r\n",
      "Requirement already satisfied: networkx in /opt/conda/lib/python3.10/site-packages (from torch>=1.4->timm==0.4.12) (3.2.1)\r\n",
      "Requirement already satisfied: jinja2 in /opt/conda/lib/python3.10/site-packages (from torch>=1.4->timm==0.4.12) (3.1.2)\r\n",
      "Requirement already satisfied: fsspec in /opt/conda/lib/python3.10/site-packages (from torch>=1.4->timm==0.4.12) (2024.2.0)\r\n",
      "Requirement already satisfied: markdown in /opt/conda/lib/python3.10/site-packages (from model-index->openmim==0.3.6) (3.5.2)\r\n",
      "Requirement already satisfied: ordered-set in /opt/conda/lib/python3.10/site-packages (from model-index->openmim==0.3.6) (4.1.0)\r\n",
      "Requirement already satisfied: pyparsing!=3.0.5,>=2.0.2 in /opt/conda/lib/python3.10/site-packages (from packaging->mmcv==1.7.1) (3.1.1)\r\n",
      "Requirement already satisfied: charset-normalizer<4,>=2 in /opt/conda/lib/python3.10/site-packages (from requests->openmim==0.3.6) (3.3.2)\r\n",
      "Requirement already satisfied: idna<4,>=2.5 in /opt/conda/lib/python3.10/site-packages (from requests->openmim==0.3.6) (3.6)\r\n",
      "Requirement already satisfied: urllib3<3,>=1.21.1 in /opt/conda/lib/python3.10/site-packages (from requests->openmim==0.3.6) (1.26.18)\r\n",
      "Requirement already satisfied: certifi>=2017.4.17 in /opt/conda/lib/python3.10/site-packages (from requests->openmim==0.3.6) (2024.2.2)\r\n",
      "Requirement already satisfied: markdown-it-py>=2.2.0 in /opt/conda/lib/python3.10/site-packages (from rich->openmim==0.3.6) (3.0.0)\r\n",
      "Requirement already satisfied: pygments<3.0.0,>=2.13.0 in /opt/conda/lib/python3.10/site-packages (from rich->openmim==0.3.6) (2.17.2)\r\n",
      "Requirement already satisfied: importlib-metadata>=6.6.0 in /opt/conda/lib/python3.10/site-packages (from yapf->mmcv==1.7.1) (6.11.0)\r\n",
      "Requirement already satisfied: platformdirs>=3.5.1 in /opt/conda/lib/python3.10/site-packages (from yapf->mmcv==1.7.1) (4.2.0)\r\n",
      "Requirement already satisfied: tomli>=2.0.1 in /opt/conda/lib/python3.10/site-packages (from yapf->mmcv==1.7.1) (2.0.1)\r\n",
      "Requirement already satisfied: zipp>=0.5 in /opt/conda/lib/python3.10/site-packages (from importlib-metadata>=6.6.0->yapf->mmcv==1.7.1) (3.17.0)\r\n",
      "Requirement already satisfied: mdurl~=0.1 in /opt/conda/lib/python3.10/site-packages (from markdown-it-py>=2.2.0->rich->openmim==0.3.6) (0.1.2)\r\n",
      "Requirement already satisfied: MarkupSafe>=2.0 in /opt/conda/lib/python3.10/site-packages (from jinja2->torch>=1.4->timm==0.4.12) (2.1.3)\r\n",
      "Requirement already satisfied: mpmath>=0.19 in /opt/conda/lib/python3.10/site-packages (from sympy->torch>=1.4->timm==0.4.12) (1.3.0)\r\n",
      "Downloading timm-0.4.12-py3-none-any.whl (376 kB)\r\n",
      "\u001b[2K   \u001b[90m━━━━━━━━━━━━━━━━━━━━━━━━━━━━━━━━━━━━━━━━\u001b[0m \u001b[32m377.0/377.0 kB\u001b[0m \u001b[31m13.5 MB/s\u001b[0m eta \u001b[36m0:00:00\u001b[0m\r\n",
      "\u001b[?25hDownloading einops-0.6.1-py3-none-any.whl (42 kB)\r\n",
      "\u001b[2K   \u001b[90m━━━━━━━━━━━━━━━━━━━━━━━━━━━━━━━━━━━━━━━━\u001b[0m \u001b[32m42.2/42.2 kB\u001b[0m \u001b[31m1.4 MB/s\u001b[0m eta \u001b[36m0:00:00\u001b[0m\r\n",
      "\u001b[?25hDownloading decord-0.6.0-py3-none-manylinux2010_x86_64.whl (13.6 MB)\r\n",
      "\u001b[2K   \u001b[90m━━━━━━━━━━━━━━━━━━━━━━━━━━━━━━━━━━━━━━━━\u001b[0m \u001b[32m13.6/13.6 MB\u001b[0m \u001b[31m60.0 MB/s\u001b[0m eta \u001b[36m0:00:00\u001b[0m\r\n",
      "\u001b[?25hDownloading openmim-0.3.6-py2.py3-none-any.whl (51 kB)\r\n",
      "\u001b[2K   \u001b[90m━━━━━━━━━━━━━━━━━━━━━━━━━━━━━━━━━━━━━━━━\u001b[0m \u001b[32m51.3/51.3 kB\u001b[0m \u001b[31m1.9 MB/s\u001b[0m eta \u001b[36m0:00:00\u001b[0m\r\n",
      "\u001b[?25hDownloading scikit_learn-1.2.1-cp310-cp310-manylinux_2_17_x86_64.manylinux2014_x86_64.whl (9.6 MB)\r\n",
      "\u001b[2K   \u001b[90m━━━━━━━━━━━━━━━━━━━━━━━━━━━━━━━━━━━━━━━━\u001b[0m \u001b[32m9.6/9.6 MB\u001b[0m \u001b[31m76.7 MB/s\u001b[0m eta \u001b[36m0:00:00\u001b[0m\r\n",
      "\u001b[?25hDownloading scipy-1.10.0-cp310-cp310-manylinux_2_17_x86_64.manylinux2014_x86_64.whl (34.4 MB)\r\n",
      "\u001b[2K   \u001b[90m━━━━━━━━━━━━━━━━━━━━━━━━━━━━━━━━━━━━━━━━\u001b[0m \u001b[32m34.4/34.4 MB\u001b[0m \u001b[31m35.2 MB/s\u001b[0m eta \u001b[36m0:00:00\u001b[0m\r\n",
      "\u001b[?25hDownloading pandas-1.5.3-cp310-cp310-manylinux_2_17_x86_64.manylinux2014_x86_64.whl (12.1 MB)\r\n",
      "\u001b[2K   \u001b[90m━━━━━━━━━━━━━━━━━━━━━━━━━━━━━━━━━━━━━━━━\u001b[0m \u001b[32m12.1/12.1 MB\u001b[0m \u001b[31m69.5 MB/s\u001b[0m eta \u001b[36m0:00:00\u001b[0m\r\n",
      "\u001b[?25hDownloading numpy-1.23.5-cp310-cp310-manylinux_2_17_x86_64.manylinux2014_x86_64.whl (17.1 MB)\r\n",
      "\u001b[2K   \u001b[90m━━━━━━━━━━━━━━━━━━━━━━━━━━━━━━━━━━━━━━━━\u001b[0m \u001b[32m17.1/17.1 MB\u001b[0m \u001b[31m55.7 MB/s\u001b[0m eta \u001b[36m0:00:00\u001b[0m\r\n",
      "\u001b[?25hDownloading opencv_python-4.7.0.72-cp37-abi3-manylinux_2_17_x86_64.manylinux2014_x86_64.whl (61.8 MB)\r\n",
      "\u001b[2K   \u001b[90m━━━━━━━━━━━━━━━━━━━━━━━━━━━━━━━━━━━━━━━━\u001b[0m \u001b[32m61.8/61.8 MB\u001b[0m \u001b[31m19.9 MB/s\u001b[0m eta \u001b[36m0:00:00\u001b[0m\r\n",
      "\u001b[?25hDownloading tensorboardX-2.6.1-py2.py3-none-any.whl (101 kB)\r\n",
      "\u001b[2K   \u001b[90m━━━━━━━━━━━━━━━━━━━━━━━━━━━━━━━━━━━━━━━━\u001b[0m \u001b[32m101.6/101.6 kB\u001b[0m \u001b[31m4.3 MB/s\u001b[0m eta \u001b[36m0:00:00\u001b[0m\r\n",
      "\u001b[?25hDownloading protobuf-5.26.1-cp37-abi3-manylinux2014_x86_64.whl (302 kB)\r\n",
      "\u001b[2K   \u001b[90m━━━━━━━━━━━━━━━━━━━━━━━━━━━━━━━━━━━━━━━━\u001b[0m \u001b[32m302.8/302.8 kB\u001b[0m \u001b[31m12.6 MB/s\u001b[0m eta \u001b[36m0:00:00\u001b[0m\r\n",
      "\u001b[?25hDownloading addict-2.4.0-py3-none-any.whl (3.8 kB)\r\n",
      "Downloading model_index-0.1.11-py3-none-any.whl (34 kB)\r\n",
      "Building wheels for collected packages: mmcv\r\n",
      "  Building wheel for mmcv (setup.py) ... \u001b[?25l-\b \b\\\b \b|\b \b/\b \bdone\r\n",
      "\u001b[?25h  Created wheel for mmcv: filename=mmcv-1.7.1-py2.py3-none-any.whl size=930716 sha256=6c310a32334afd3bf0b70401f5692ec85c643e928d33cdabff59a41f77e1f833\r\n",
      "  Stored in directory: /root/.cache/pip/wheels/f8/f9/e3/7e8ab9b98ee9e91fcb677bea6a1ca23b755ddf87a982216acf\r\n",
      "Successfully built mmcv\r\n",
      "Installing collected packages: addict, protobuf, numpy, model-index, einops, tensorboardX, scipy, pandas, opencv-python, decord, scikit-learn, openmim, mmcv, timm\r\n",
      "  Attempting uninstall: protobuf\r\n",
      "    Found existing installation: protobuf 3.20.3\r\n",
      "    Uninstalling protobuf-3.20.3:\r\n",
      "      Successfully uninstalled protobuf-3.20.3\r\n",
      "  Attempting uninstall: numpy\r\n",
      "    Found existing installation: numpy 1.26.4\r\n",
      "    Uninstalling numpy-1.26.4:\r\n",
      "      Successfully uninstalled numpy-1.26.4\r\n",
      "  Attempting uninstall: tensorboardX\r\n",
      "    Found existing installation: tensorboardX 2.6.2.2\r\n",
      "    Uninstalling tensorboardX-2.6.2.2:\r\n",
      "      Successfully uninstalled tensorboardX-2.6.2.2\r\n",
      "  Attempting uninstall: scipy\r\n",
      "    Found existing installation: scipy 1.11.4\r\n",
      "    Uninstalling scipy-1.11.4:\r\n",
      "      Successfully uninstalled scipy-1.11.4\r\n",
      "  Attempting uninstall: pandas\r\n",
      "    Found existing installation: pandas 2.2.2\r\n",
      "    Uninstalling pandas-2.2.2:\r\n",
      "      Successfully uninstalled pandas-2.2.2\r\n",
      "  Attempting uninstall: opencv-python\r\n",
      "    Found existing installation: opencv-python 4.9.0.80\r\n",
      "    Uninstalling opencv-python-4.9.0.80:\r\n",
      "      Successfully uninstalled opencv-python-4.9.0.80\r\n",
      "  Attempting uninstall: scikit-learn\r\n",
      "    Found existing installation: scikit-learn 1.2.2\r\n",
      "    Uninstalling scikit-learn-1.2.2:\r\n",
      "      Successfully uninstalled scikit-learn-1.2.2\r\n",
      "  Attempting uninstall: timm\r\n",
      "    Found existing installation: timm 0.9.16\r\n",
      "    Uninstalling timm-0.9.16:\r\n",
      "      Successfully uninstalled timm-0.9.16\r\n",
      "\u001b[31mERROR: pip's dependency resolver does not currently take into account all the packages that are installed. This behaviour is the source of the following dependency conflicts.\r\n",
      "keras-nlp 0.9.3 requires keras-core, which is not installed.\r\n",
      "tensorflow-decision-forests 1.8.1 requires wurlitzer, which is not installed.\r\n",
      "albumentations 1.4.0 requires numpy>=1.24.4, but you have numpy 1.23.5 which is incompatible.\r\n",
      "albumentations 1.4.0 requires opencv-python>=4.9.0, but you have opencv-python 4.7.0.72 which is incompatible.\r\n",
      "apache-beam 2.46.0 requires dill<0.3.2,>=0.3.1.1, but you have dill 0.3.8 which is incompatible.\r\n",
      "apache-beam 2.46.0 requires protobuf<4,>3.12.2, but you have protobuf 5.26.1 which is incompatible.\r\n",
      "apache-beam 2.46.0 requires pyarrow<10.0.0,>=3.0.0, but you have pyarrow 15.0.2 which is incompatible.\r\n",
      "beatrix-jupyterlab 2023.128.151533 requires jupyterlab~=3.6.0, but you have jupyterlab 4.1.6 which is incompatible.\r\n",
      "chex 0.1.86 requires numpy>=1.24.1, but you have numpy 1.23.5 which is incompatible.\r\n",
      "dask-expr 1.0.11 requires pandas>=2, but you have pandas 1.5.3 which is incompatible.\r\n",
      "featuretools 1.30.0 requires numpy>=1.25.0, but you have numpy 1.23.5 which is incompatible.\r\n",
      "featuretools 1.30.0 requires pandas>=2.0.0, but you have pandas 1.5.3 which is incompatible.\r\n",
      "google-ai-generativelanguage 0.6.2 requires protobuf!=3.20.0,!=3.20.1,!=4.21.0,!=4.21.1,!=4.21.2,!=4.21.3,!=4.21.4,!=4.21.5,<5.0.0dev,>=3.19.5, but you have protobuf 5.26.1 which is incompatible.\r\n",
      "google-api-core 2.11.1 requires protobuf!=3.20.0,!=3.20.1,!=4.21.0,!=4.21.1,!=4.21.2,!=4.21.3,!=4.21.4,!=4.21.5,<5.0.0.dev0,>=3.19.5, but you have protobuf 5.26.1 which is incompatible.\r\n",
      "google-cloud-aiplatform 0.6.0a1 requires google-api-core[grpc]<2.0.0dev,>=1.22.2, but you have google-api-core 2.11.1 which is incompatible.\r\n",
      "google-cloud-artifact-registry 1.10.0 requires protobuf!=3.20.0,!=3.20.1,!=4.21.0,!=4.21.1,!=4.21.2,!=4.21.3,!=4.21.4,!=4.21.5,<5.0.0dev,>=3.19.5, but you have protobuf 5.26.1 which is incompatible.\r\n",
      "google-cloud-automl 1.0.1 requires google-api-core[grpc]<2.0.0dev,>=1.14.0, but you have google-api-core 2.11.1 which is incompatible.\r\n",
      "google-cloud-bigquery 2.34.4 requires protobuf<4.0.0dev,>=3.12.0, but you have protobuf 5.26.1 which is incompatible.\r\n",
      "google-cloud-bigtable 1.7.3 requires protobuf<4.0.0dev, but you have protobuf 5.26.1 which is incompatible.\r\n",
      "google-cloud-datastore 1.15.5 requires protobuf<4.0.0dev, but you have protobuf 5.26.1 which is incompatible.\r\n",
      "google-cloud-dlp 3.14.0 requires protobuf!=3.20.0,!=3.20.1,!=4.21.0,!=4.21.1,!=4.21.2,!=4.21.3,!=4.21.4,!=4.21.5,<5.0.0dev,>=3.19.5, but you have protobuf 5.26.1 which is incompatible.\r\n",
      "google-cloud-language 2.13.3 requires protobuf!=3.20.0,!=3.20.1,!=4.21.0,!=4.21.1,!=4.21.2,!=4.21.3,!=4.21.4,!=4.21.5,<5.0.0dev,>=3.19.5, but you have protobuf 5.26.1 which is incompatible.\r\n",
      "google-cloud-monitoring 2.18.0 requires protobuf!=3.20.0,!=3.20.1,!=4.21.0,!=4.21.1,!=4.21.2,!=4.21.3,!=4.21.4,!=4.21.5,<5.0.0dev,>=3.19.5, but you have protobuf 5.26.1 which is incompatible.\r\n",
      "google-cloud-pubsub 2.19.0 requires protobuf!=3.20.0,!=3.20.1,!=4.21.0,!=4.21.1,!=4.21.2,!=4.21.3,!=4.21.4,!=4.21.5,<5.0.0dev,>=3.19.5, but you have protobuf 5.26.1 which is incompatible.\r\n",
      "google-cloud-recommendations-ai 0.7.1 requires protobuf<5.0.0dev,>=3.19.0, but you have protobuf 5.26.1 which is incompatible.\r\n",
      "google-cloud-resource-manager 1.11.0 requires protobuf!=3.20.0,!=3.20.1,!=4.21.0,!=4.21.1,!=4.21.2,!=4.21.3,!=4.21.4,!=4.21.5,<5.0.0dev,>=3.19.5, but you have protobuf 5.26.1 which is incompatible.\r\n",
      "google-cloud-spanner 3.40.1 requires protobuf!=3.20.0,!=3.20.1,!=4.21.0,!=4.21.1,!=4.21.2,!=4.21.3,!=4.21.4,!=4.21.5,<5.0.0dev,>=3.19.5, but you have protobuf 5.26.1 which is incompatible.\r\n",
      "google-cloud-translate 3.12.1 requires protobuf!=3.20.0,!=3.20.1,!=4.21.0,!=4.21.1,!=4.21.2,!=4.21.3,!=4.21.4,!=4.21.5,<5.0.0dev,>=3.19.5, but you have protobuf 5.26.1 which is incompatible.\r\n",
      "google-cloud-videointelligence 2.13.3 requires protobuf!=3.20.0,!=3.20.1,!=4.21.0,!=4.21.1,!=4.21.2,!=4.21.3,!=4.21.4,!=4.21.5,<5.0.0dev,>=3.19.5, but you have protobuf 5.26.1 which is incompatible.\r\n",
      "google-cloud-vision 2.8.0 requires protobuf<4.0.0dev,>=3.19.0, but you have protobuf 5.26.1 which is incompatible.\r\n",
      "googleapis-common-protos 1.62.0 requires protobuf!=3.20.0,!=3.20.1,!=4.21.1,!=4.21.2,!=4.21.3,!=4.21.4,!=4.21.5,<5.0.0.dev0,>=3.19.5, but you have protobuf 5.26.1 which is incompatible.\r\n",
      "grpc-google-iam-v1 0.12.7 requires protobuf!=3.20.0,!=3.20.1,!=4.21.1,!=4.21.2,!=4.21.3,!=4.21.4,!=4.21.5,<5.0.0dev,>=3.19.5, but you have protobuf 5.26.1 which is incompatible.\r\n",
      "kaggle-environments 1.14.3 requires scipy>=1.11.2, but you have scipy 1.10.0 which is incompatible.\r\n",
      "kfp 2.5.0 requires google-cloud-storage<3,>=2.2.1, but you have google-cloud-storage 1.44.0 which is incompatible.\r\n",
      "kfp 2.5.0 requires protobuf<4,>=3.13.0, but you have protobuf 5.26.1 which is incompatible.\r\n",
      "kfp-pipeline-spec 0.2.2 requires protobuf<4,>=3.13.0, but you have protobuf 5.26.1 which is incompatible.\r\n",
      "libpysal 4.9.2 requires packaging>=22, but you have packaging 21.3 which is incompatible.\r\n",
      "libpysal 4.9.2 requires shapely>=2.0.1, but you have shapely 1.8.5.post1 which is incompatible.\r\n",
      "mizani 0.11.1 requires pandas>=2.1.0, but you have pandas 1.5.3 which is incompatible.\r\n",
      "momepy 0.7.0 requires shapely>=2, but you have shapely 1.8.5.post1 which is incompatible.\r\n",
      "opentelemetry-proto 1.22.0 requires protobuf<5.0,>=3.19, but you have protobuf 5.26.1 which is incompatible.\r\n",
      "osmnx 1.9.2 requires shapely>=2.0, but you have shapely 1.8.5.post1 which is incompatible.\r\n",
      "plotnine 0.13.4 requires pandas<3.0.0,>=2.1.0, but you have pandas 1.5.3 which is incompatible.\r\n",
      "proto-plus 1.23.0 requires protobuf<5.0.0dev,>=3.19.0, but you have protobuf 5.26.1 which is incompatible.\r\n",
      "pyldavis 3.4.1 requires numpy>=1.24.2, but you have numpy 1.23.5 which is incompatible.\r\n",
      "pyldavis 3.4.1 requires pandas>=2.0.0, but you have pandas 1.5.3 which is incompatible.\r\n",
      "spopt 0.6.0 requires shapely>=2.0.1, but you have shapely 1.8.5.post1 which is incompatible.\r\n",
      "tensorboard 2.15.1 requires protobuf<4.24,>=3.19.6, but you have protobuf 5.26.1 which is incompatible.\r\n",
      "tensorboard-plugin-profile 2.15.0 requires protobuf<5.0.0dev,>=3.19.6, but you have protobuf 5.26.1 which is incompatible.\r\n",
      "tensorflow 2.15.0 requires keras<2.16,>=2.15.0, but you have keras 3.2.1 which is incompatible.\r\n",
      "tensorflow 2.15.0 requires protobuf!=4.21.0,!=4.21.1,!=4.21.2,!=4.21.3,!=4.21.4,!=4.21.5,<5.0.0dev,>=3.20.3, but you have protobuf 5.26.1 which is incompatible.\r\n",
      "tensorflow-metadata 0.14.0 requires protobuf<4,>=3.7, but you have protobuf 5.26.1 which is incompatible.\r\n",
      "tensorflow-serving-api 2.14.1 requires protobuf!=4.21.0,!=4.21.1,!=4.21.2,!=4.21.3,!=4.21.4,!=4.21.5,<5.0.0dev,>=3.20.3, but you have protobuf 5.26.1 which is incompatible.\r\n",
      "tensorflow-transform 0.14.0 requires protobuf<4,>=3.7, but you have protobuf 5.26.1 which is incompatible.\r\n",
      "tensorstore 0.1.56 requires ml-dtypes>=0.3.1, but you have ml-dtypes 0.2.0 which is incompatible.\r\n",
      "wandb 0.16.6 requires protobuf!=4.21.0,<5,>=3.19.0; python_version > \"3.9\" and sys_platform == \"linux\", but you have protobuf 5.26.1 which is incompatible.\r\n",
      "woodwork 0.30.0 requires numpy>=1.25.0, but you have numpy 1.23.5 which is incompatible.\r\n",
      "woodwork 0.30.0 requires pandas>=2.0.0, but you have pandas 1.5.3 which is incompatible.\r\n",
      "xarray 2024.3.0 requires packaging>=22, but you have packaging 21.3 which is incompatible.\u001b[0m\u001b[31m\r\n",
      "\u001b[0mSuccessfully installed addict-2.4.0 decord-0.6.0 einops-0.6.1 mmcv-1.7.1 model-index-0.1.11 numpy-1.23.5 opencv-python-4.7.0.72 openmim-0.3.6 pandas-1.5.3 protobuf-3.20.3 scikit-learn-1.2.1 scipy-1.10.0 tensorboardX-2.6.1 timm-0.4.12\r\n",
      "Looking in indexes: https://pypi.org/simple, https://download.pytorch.org/whl/cu113\r\n",
      "Collecting torch==1.11.0+cu113\r\n",
      "  Downloading https://download.pytorch.org/whl/cu113/torch-1.11.0%2Bcu113-cp310-cp310-linux_x86_64.whl (1637.0 MB)\r\n",
      "\u001b[2K     \u001b[90m━━━━━━━━━━━━━━━━━━━━━━━━━━━━━━━━━━━━━━━━\u001b[0m \u001b[32m1.6/1.6 GB\u001b[0m \u001b[31m?\u001b[0m eta \u001b[36m0:00:00\u001b[0m\r\n",
      "\u001b[?25hCollecting torchvision==0.12.0+cu113\r\n",
      "  Downloading https://download.pytorch.org/whl/cu113/torchvision-0.12.0%2Bcu113-cp310-cp310-linux_x86_64.whl (22.3 MB)\r\n",
      "\u001b[2K     \u001b[90m━━━━━━━━━━━━━━━━━━━━━━━━━━━━━━━━━━━━━━━━\u001b[0m \u001b[32m22.3/22.3 MB\u001b[0m \u001b[31m35.0 MB/s\u001b[0m eta \u001b[36m0:00:00\u001b[0m\r\n",
      "\u001b[?25hCollecting torchaudio==0.11.0\r\n",
      "  Downloading https://download.pytorch.org/whl/cu113/torchaudio-0.11.0%2Bcu113-cp310-cp310-linux_x86_64.whl (2.9 MB)\r\n",
      "\u001b[2K     \u001b[90m━━━━━━━━━━━━━━━━━━━━━━━━━━━━━━━━━━━━━━━━\u001b[0m \u001b[32m2.9/2.9 MB\u001b[0m \u001b[31m43.8 MB/s\u001b[0m eta \u001b[36m0:00:00\u001b[0m\r\n",
      "\u001b[?25hRequirement already satisfied: typing-extensions in /opt/conda/lib/python3.10/site-packages (from torch==1.11.0+cu113) (4.9.0)\r\n",
      "Requirement already satisfied: numpy in /opt/conda/lib/python3.10/site-packages (from torchvision==0.12.0+cu113) (1.23.5)\r\n",
      "Requirement already satisfied: requests in /opt/conda/lib/python3.10/site-packages (from torchvision==0.12.0+cu113) (2.31.0)\r\n",
      "Requirement already satisfied: pillow!=8.3.*,>=5.3.0 in /opt/conda/lib/python3.10/site-packages (from torchvision==0.12.0+cu113) (9.5.0)\r\n",
      "Requirement already satisfied: charset-normalizer<4,>=2 in /opt/conda/lib/python3.10/site-packages (from requests->torchvision==0.12.0+cu113) (3.3.2)\r\n",
      "Requirement already satisfied: idna<4,>=2.5 in /opt/conda/lib/python3.10/site-packages (from requests->torchvision==0.12.0+cu113) (3.6)\r\n",
      "Requirement already satisfied: urllib3<3,>=1.21.1 in /opt/conda/lib/python3.10/site-packages (from requests->torchvision==0.12.0+cu113) (1.26.18)\r\n",
      "Requirement already satisfied: certifi>=2017.4.17 in /opt/conda/lib/python3.10/site-packages (from requests->torchvision==0.12.0+cu113) (2024.2.2)\r\n",
      "Installing collected packages: torch, torchvision, torchaudio\r\n",
      "  Attempting uninstall: torch\r\n",
      "    Found existing installation: torch 2.1.2+cpu\r\n",
      "    Uninstalling torch-2.1.2+cpu:\r\n",
      "      Successfully uninstalled torch-2.1.2+cpu\r\n",
      "  Attempting uninstall: torchvision\r\n",
      "    Found existing installation: torchvision 0.16.2+cpu\r\n",
      "    Uninstalling torchvision-0.16.2+cpu:\r\n",
      "      Successfully uninstalled torchvision-0.16.2+cpu\r\n",
      "  Attempting uninstall: torchaudio\r\n",
      "    Found existing installation: torchaudio 2.1.2+cpu\r\n",
      "    Uninstalling torchaudio-2.1.2+cpu:\r\n",
      "      Successfully uninstalled torchaudio-2.1.2+cpu\r\n",
      "\u001b[31mERROR: pip's dependency resolver does not currently take into account all the packages that are installed. This behaviour is the source of the following dependency conflicts.\r\n",
      "pytorch-lightning 2.2.2 requires torch>=1.13.0, but you have torch 1.11.0+cu113 which is incompatible.\r\n",
      "stable-baselines3 2.1.0 requires torch>=1.13, but you have torch 1.11.0+cu113 which is incompatible.\r\n",
      "torchdata 0.7.1 requires torch>=2, but you have torch 1.11.0+cu113 which is incompatible.\r\n",
      "torchtext 0.16.2+cpu requires torch==2.1.2, but you have torch 1.11.0+cu113 which is incompatible.\u001b[0m\u001b[31m\r\n",
      "\u001b[0mSuccessfully installed torch-1.11.0+cu113 torchaudio-0.11.0+cu113 torchvision-0.12.0+cu113\r\n",
      "Note: you may need to restart the kernel to use updated packages.\n",
      "Collecting protobuf==3.20\r\n",
      "  Downloading protobuf-3.20.0-cp310-cp310-manylinux_2_12_x86_64.manylinux2010_x86_64.whl.metadata (698 bytes)\r\n",
      "Downloading protobuf-3.20.0-cp310-cp310-manylinux_2_12_x86_64.manylinux2010_x86_64.whl (1.1 MB)\r\n",
      "\u001b[2K   \u001b[90m━━━━━━━━━━━━━━━━━━━━━━━━━━━━━━━━━━━━━━━━\u001b[0m \u001b[32m1.1/1.1 MB\u001b[0m \u001b[31m13.8 MB/s\u001b[0m eta \u001b[36m0:00:00\u001b[0m\r\n",
      "\u001b[?25hInstalling collected packages: protobuf\r\n",
      "  Attempting uninstall: protobuf\r\n",
      "    Found existing installation: protobuf 3.20.3\r\n",
      "    Uninstalling protobuf-3.20.3:\r\n",
      "      Successfully uninstalled protobuf-3.20.3\r\n",
      "\u001b[31mERROR: pip's dependency resolver does not currently take into account all the packages that are installed. This behaviour is the source of the following dependency conflicts.\r\n",
      "tensorflow-decision-forests 1.8.1 requires wurlitzer, which is not installed.\r\n",
      "apache-beam 2.46.0 requires dill<0.3.2,>=0.3.1.1, but you have dill 0.3.8 which is incompatible.\r\n",
      "apache-beam 2.46.0 requires pyarrow<10.0.0,>=3.0.0, but you have pyarrow 15.0.2 which is incompatible.\r\n",
      "google-ai-generativelanguage 0.6.2 requires protobuf!=3.20.0,!=3.20.1,!=4.21.0,!=4.21.1,!=4.21.2,!=4.21.3,!=4.21.4,!=4.21.5,<5.0.0dev,>=3.19.5, but you have protobuf 3.20.0 which is incompatible.\r\n",
      "google-api-core 2.11.1 requires protobuf!=3.20.0,!=3.20.1,!=4.21.0,!=4.21.1,!=4.21.2,!=4.21.3,!=4.21.4,!=4.21.5,<5.0.0.dev0,>=3.19.5, but you have protobuf 3.20.0 which is incompatible.\r\n",
      "google-cloud-aiplatform 0.6.0a1 requires google-api-core[grpc]<2.0.0dev,>=1.22.2, but you have google-api-core 2.11.1 which is incompatible.\r\n",
      "google-cloud-artifact-registry 1.10.0 requires protobuf!=3.20.0,!=3.20.1,!=4.21.0,!=4.21.1,!=4.21.2,!=4.21.3,!=4.21.4,!=4.21.5,<5.0.0dev,>=3.19.5, but you have protobuf 3.20.0 which is incompatible.\r\n",
      "google-cloud-automl 1.0.1 requires google-api-core[grpc]<2.0.0dev,>=1.14.0, but you have google-api-core 2.11.1 which is incompatible.\r\n",
      "google-cloud-dlp 3.14.0 requires protobuf!=3.20.0,!=3.20.1,!=4.21.0,!=4.21.1,!=4.21.2,!=4.21.3,!=4.21.4,!=4.21.5,<5.0.0dev,>=3.19.5, but you have protobuf 3.20.0 which is incompatible.\r\n",
      "google-cloud-language 2.13.3 requires protobuf!=3.20.0,!=3.20.1,!=4.21.0,!=4.21.1,!=4.21.2,!=4.21.3,!=4.21.4,!=4.21.5,<5.0.0dev,>=3.19.5, but you have protobuf 3.20.0 which is incompatible.\r\n",
      "google-cloud-monitoring 2.18.0 requires protobuf!=3.20.0,!=3.20.1,!=4.21.0,!=4.21.1,!=4.21.2,!=4.21.3,!=4.21.4,!=4.21.5,<5.0.0dev,>=3.19.5, but you have protobuf 3.20.0 which is incompatible.\r\n",
      "google-cloud-pubsub 2.19.0 requires protobuf!=3.20.0,!=3.20.1,!=4.21.0,!=4.21.1,!=4.21.2,!=4.21.3,!=4.21.4,!=4.21.5,<5.0.0dev,>=3.19.5, but you have protobuf 3.20.0 which is incompatible.\r\n",
      "google-cloud-resource-manager 1.11.0 requires protobuf!=3.20.0,!=3.20.1,!=4.21.0,!=4.21.1,!=4.21.2,!=4.21.3,!=4.21.4,!=4.21.5,<5.0.0dev,>=3.19.5, but you have protobuf 3.20.0 which is incompatible.\r\n",
      "google-cloud-spanner 3.40.1 requires protobuf!=3.20.0,!=3.20.1,!=4.21.0,!=4.21.1,!=4.21.2,!=4.21.3,!=4.21.4,!=4.21.5,<5.0.0dev,>=3.19.5, but you have protobuf 3.20.0 which is incompatible.\r\n",
      "google-cloud-translate 3.12.1 requires protobuf!=3.20.0,!=3.20.1,!=4.21.0,!=4.21.1,!=4.21.2,!=4.21.3,!=4.21.4,!=4.21.5,<5.0.0dev,>=3.19.5, but you have protobuf 3.20.0 which is incompatible.\r\n",
      "google-cloud-videointelligence 2.13.3 requires protobuf!=3.20.0,!=3.20.1,!=4.21.0,!=4.21.1,!=4.21.2,!=4.21.3,!=4.21.4,!=4.21.5,<5.0.0dev,>=3.19.5, but you have protobuf 3.20.0 which is incompatible.\r\n",
      "googleapis-common-protos 1.62.0 requires protobuf!=3.20.0,!=3.20.1,!=4.21.1,!=4.21.2,!=4.21.3,!=4.21.4,!=4.21.5,<5.0.0.dev0,>=3.19.5, but you have protobuf 3.20.0 which is incompatible.\r\n",
      "grpc-google-iam-v1 0.12.7 requires protobuf!=3.20.0,!=3.20.1,!=4.21.1,!=4.21.2,!=4.21.3,!=4.21.4,!=4.21.5,<5.0.0dev,>=3.19.5, but you have protobuf 3.20.0 which is incompatible.\r\n",
      "kfp 2.5.0 requires google-cloud-storage<3,>=2.2.1, but you have google-cloud-storage 1.44.0 which is incompatible.\r\n",
      "onnx 1.16.0 requires protobuf>=3.20.2, but you have protobuf 3.20.0 which is incompatible.\r\n",
      "tensorboardx 2.6.1 requires protobuf>=4.22.3, but you have protobuf 3.20.0 which is incompatible.\r\n",
      "tensorflow 2.15.0 requires keras<2.16,>=2.15.0, but you have keras 3.2.1 which is incompatible.\r\n",
      "tensorflow 2.15.0 requires protobuf!=4.21.0,!=4.21.1,!=4.21.2,!=4.21.3,!=4.21.4,!=4.21.5,<5.0.0dev,>=3.20.3, but you have protobuf 3.20.0 which is incompatible.\r\n",
      "tensorflow-serving-api 2.14.1 requires protobuf!=4.21.0,!=4.21.1,!=4.21.2,!=4.21.3,!=4.21.4,!=4.21.5,<5.0.0dev,>=3.20.3, but you have protobuf 3.20.0 which is incompatible.\u001b[0m\u001b[31m\r\n",
      "\u001b[0mSuccessfully installed protobuf-3.20.0\r\n"
     ]
    }
   ],
   "source": [
    "!pip install timm==0.4.12 einops==0.6.1 decord==0.6.0 openmim==0.3.6 mmcv==1.7.1 scikit-learn==1.2.1 scipy==1.10.0 pandas==1.5.3 numpy==1.23.5 opencv-python==4.7.0.72 tensorboardX==2.6.1 soundfile==0.12.1 \n",
    "%pip install torch==1.11.0+cu113 torchvision==0.12.0+cu113 torchaudio==0.11.0 --extra-index-url https://download.pytorch.org/whl/cu113\n",
    "!pip install protobuf==3.20"
   ]
  },
  {
   "cell_type": "code",
   "execution_count": 2,
   "id": "3ec49203",
   "metadata": {
    "execution": {
     "iopub.execute_input": "2024-05-08T16:44:34.681937Z",
     "iopub.status.busy": "2024-05-08T16:44:34.681400Z",
     "iopub.status.idle": "2024-05-08T16:46:15.940217Z",
     "shell.execute_reply": "2024-05-08T16:46:15.938941Z"
    },
    "papermill": {
     "duration": 101.389656,
     "end_time": "2024-05-08T16:46:15.943511",
     "exception": false,
     "start_time": "2024-05-08T16:44:34.553855",
     "status": "completed"
    },
    "scrolled": true,
    "tags": []
   },
   "outputs": [
    {
     "name": "stdout",
     "output_type": "stream",
     "text": [
      "/kaggle/working\n",
      "Cloning into 'HiCMAE'...\r\n",
      "remote: Enumerating objects: 267, done.\u001b[K\r\n",
      "remote: Counting objects: 100% (267/267), done.\u001b[K\r\n",
      "remote: Compressing objects: 100% (190/190), done.\u001b[K\r\n",
      "remote: Total 267 (delta 78), reused 159 (delta 31), pack-reused 0\u001b[K\r\n",
      "Receiving objects: 100% (267/267), 3.72 MiB | 29.99 MiB/s, done.\r\n",
      "Resolving deltas: 100% (78/78), done.\r\n",
      "/kaggle/working/HiCMAE\n",
      "Note: switching to 'origin/kaggle'.\r\n",
      "\r\n",
      "You are in 'detached HEAD' state. You can look around, make experimental\r\n",
      "changes and commit them, and you can discard any commits you make in this\r\n",
      "state without impacting any branches by switching back to a branch.\r\n",
      "\r\n",
      "If you want to create a new branch to retain commits you create, you may\r\n",
      "do so (now or later) by using -c with the switch command. Example:\r\n",
      "\r\n",
      "  git switch -c <new-branch-name>\r\n",
      "\r\n",
      "Or undo this operation with:\r\n",
      "\r\n",
      "  git switch -\r\n",
      "\r\n",
      "Turn off this advice by setting config variable advice.detachedHead to false\r\n",
      "\r\n",
      "HEAD is now at 6ca39ca Update kinetics_av.py\r\n",
      "Retrieving notices: ...working... done\r\n",
      "Channels:\r\n",
      " - rapidsai\r\n",
      " - nvidia\r\n",
      " - conda-forge\r\n",
      " - defaults\r\n",
      "Platform: linux-64\r\n",
      "Collecting package metadata (repodata.json): \\ \b\b| \b\b/ \b\b- \b\b\\ \b\b| \b\b/ \b\b- \b\b\\ \b\b| \b\b/ \b\b- \b\b\\ \b\b| \b\b/ \b\b- \b\b\\ \b\b| \b\b/ \b\b- \b\b\\ \b\b| \b\b/ \b\b- \b\b\\ \b\b| \b\b/ \b\b- \b\b\\ \b\b| \b\b/ \b\b- \b\b\\ \b\b| \b\b/ \b\b- \b\b\\ \b\b| \b\b/ \b\b- \b\b\\ \b\b| \b\b/ \b\b- \b\b\\ \b\b| \b\b/ \b\b- \b\b\\ \b\b| \b\b/ \b\b- \b\b\\ \b\b| \b\b/ \b\b- \b\b\\ \b\b| \b\b/ \b\b- \b\b\\ \b\b| \b\b/ \b\b- \b\b\\ \b\b| \b\b/ \b\b- \b\b\\ \b\b| \b\b/ \b\b- \b\b\\ \b\b| \b\b/ \b\b- \b\b\\ \b\b| \b\b/ \b\b- \b\b\\ \b\b| \b\b/ \b\b- \b\b\\ \b\b| \b\b/ \b\b- \b\b\\ \b\b| \b\b/ \b\b- \b\b\\ \b\b| \b\bdone\r\n",
      "Solving environment: - \b\b\\ \b\b| \b\b/ \b\b- \b\b\\ \b\b| \b\b/ \b\b- \b\b\\ \b\b| \b\b/ \b\b- \b\b\\ \b\b| \b\b/ \b\b- \b\b\\ \b\b| \b\b/ \b\b- \b\b\\ \b\b| \b\b/ \b\b- \b\bdone\r\n",
      "\r\n",
      "## Package Plan ##\r\n",
      "\r\n",
      "  environment location: /opt/conda\r\n",
      "\r\n",
      "  added / updated specs:\r\n",
      "    - gdown\r\n",
      "\r\n",
      "\r\n",
      "The following packages will be downloaded:\r\n",
      "\r\n",
      "    package                    |            build\r\n",
      "    ---------------------------|-----------------\r\n",
      "    conda-24.4.0               |  py310hff52083_0         930 KB  conda-forge\r\n",
      "    filelock-3.14.0            |     pyhd8ed1ab_0          16 KB  conda-forge\r\n",
      "    gdown-5.1.0                |     pyhd8ed1ab_0          21 KB  conda-forge\r\n",
      "    openssl-3.3.0              |       hd590300_0         2.8 MB  conda-forge\r\n",
      "    ------------------------------------------------------------\r\n",
      "                                           Total:         3.7 MB\r\n",
      "\r\n",
      "The following NEW packages will be INSTALLED:\r\n",
      "\r\n",
      "  filelock           conda-forge/noarch::filelock-3.14.0-pyhd8ed1ab_0 \r\n",
      "  gdown              conda-forge/noarch::gdown-5.1.0-pyhd8ed1ab_0 \r\n",
      "\r\n",
      "The following packages will be UPDATED:\r\n",
      "\r\n",
      "  conda                              24.3.0-py310hff52083_0 --> 24.4.0-py310hff52083_0 \r\n",
      "  openssl                                  3.2.1-hd590300_1 --> 3.3.0-hd590300_0 \r\n",
      "\r\n",
      "\r\n",
      "\r\n",
      "Downloading and Extracting Packages:\r\n",
      "openssl-3.3.0        | 2.8 MB    |                                       |   0% \r\n",
      "conda-24.4.0         | 930 KB    |                                       |   0% \u001b[A\r\n",
      "\r\n",
      "gdown-5.1.0          | 21 KB     |                                       |   0% \u001b[A\u001b[A\r\n",
      "\r\n",
      "\r\n",
      "openssl-3.3.0        | 2.8 MB    | 2                                     |   1% \r\n",
      "\r\n",
      "\r\n",
      "filelock-3.14.0      | 16 KB     | ##################################### | 100% \u001b[A\u001b[A\u001b[A\r\n",
      "\r\n",
      "gdown-5.1.0          | 21 KB     | ############################2         |  76% \u001b[A\u001b[A\r\n",
      "openssl-3.3.0        | 2.8 MB    | #########################1            |  68% \r\n",
      "\r\n",
      "\r\n",
      "filelock-3.14.0      | 16 KB     | ##################################### | 100% \u001b[A\u001b[A\u001b[A\r\n",
      "\r\n",
      "openssl-3.3.0        | 2.8 MB    | ##################################### | 100% \r\n",
      "conda-24.4.0         | 930 KB    | ##################################### | 100% \u001b[A\r\n",
      "\r\n",
      "                                                                                \u001b[A\r\n",
      "\r\n",
      "                                                                                \u001b[A\u001b[A\r\n",
      "\r\n",
      "\r\n",
      "\r\n",
      "Preparing transaction: | \b\bdone\r\n",
      "Verifying transaction: - \b\b\\ \b\b| \b\bdone\r\n",
      "Executing transaction: - \b\b\\ \b\b| \b\b/ \b\b- \b\b\\ \b\b| \b\b/ \b\b- \b\b\\ \b\b| \b\b/ \b\b- \b\b\\ \b\b| \b\b/ \b\b- \b\b\\ \b\b| \b\b/ \b\b- \b\b\\ \b\b| \b\b/ \b\b- \b\b\\ \b\b| \b\b/ \b\b- \b\b\\ \b\b| \b\b/ \b\b- \b\b\\ \b\b| \b\b/ \b\b- \b\b\\ \b\b| \b\b/ \b\b- \b\b\\ \b\b| \b\b/ \b\b- \b\b\\ \b\b| \b\b/ \b\b- \b\b\\ \b\b| \b\b/ \b\b- \b\b\\ \b\b| \b\b/ \b\b- \b\b\\ \b\b| \b\b/ \b\b- \b\b\\ \b\b| \b\b/ \b\b- \b\b\\ \b\b| \b\b/ \b\b- \b\b\\ \b\bdone\r\n",
      "/kaggle/working/HiCMAE/saved/model/pretraining/voxceleb2/audio_visual/hicmae_pretrain_base\n",
      "/opt/conda/lib/python3.10/site-packages/gdown/__main__.py:132: FutureWarning: Option `--id` was deprecated in version 4.3.1 and will be removed in 5.0. You don't need to pass it anymore to use a file ID.\r\n",
      "  warnings.warn(\r\n",
      "Downloading...\r\n",
      "From (original): https://drive.google.com/uc?id=1mR2r-_LWmtTYl4pS_L3YlhKNCCnv_ZaE\r\n",
      "From (redirected): https://drive.google.com/uc?id=1mR2r-_LWmtTYl4pS_L3YlhKNCCnv_ZaE&confirm=t&uuid=1bb0d35d-f0cc-49fd-ae07-f03e81143de9\r\n",
      "To: /kaggle/working/HiCMAE/saved/model/pretraining/voxceleb2/audio_visual/hicmae_pretrain_base/checkpoint-99.pth\r\n",
      "100%|██████████████████████████████████████| 1.20G/1.20G [00:17<00:00, 68.1MB/s]\r\n"
     ]
    }
   ],
   "source": [
    "%cd /kaggle/working\n",
    "!git clone https://github.com/some113/HiCMAE.git\n",
    "%cd HiCMAE\n",
    "!git checkout origin/kaggle\n",
    "    \n",
    "!conda install -y gdown\n",
    "%cd /kaggle/working/HiCMAE/saved/model/pretraining/voxceleb2/audio_visual/hicmae_pretrain_base\n",
    "!gdown --id 1mR2r-_LWmtTYl4pS_L3YlhKNCCnv_ZaE"
   ]
  },
  {
   "cell_type": "markdown",
   "id": "28ea0d87",
   "metadata": {
    "execution": {
     "iopub.execute_input": "2024-05-07T07:24:09.197918Z",
     "iopub.status.busy": "2024-05-07T07:24:09.196580Z",
     "iopub.status.idle": "2024-05-07T07:24:11.631291Z",
     "shell.execute_reply": "2024-05-07T07:24:11.629746Z",
     "shell.execute_reply.started": "2024-05-07T07:24:09.197860Z"
    },
    "papermill": {
     "duration": 0.159347,
     "end_time": "2024-05-08T16:46:16.262246",
     "exception": false,
     "start_time": "2024-05-08T16:46:16.102899",
     "status": "completed"
    },
    "tags": []
   },
   "source": [
    "%cd /kaggle/working\n",
    "!git clone https://github.com/some113/HiCMAE.git\n",
    "%cd HiCMAE\n",
    "#!git checkout origin/kaggle"
   ]
  },
  {
   "cell_type": "code",
   "execution_count": null,
   "id": "c51972e6",
   "metadata": {
    "execution": {
     "iopub.execute_input": "2024-05-07T15:17:59.943444Z",
     "iopub.status.busy": "2024-05-07T15:17:59.943007Z",
     "iopub.status.idle": "2024-05-07T15:20:17.412140Z",
     "shell.execute_reply": "2024-05-07T15:20:17.410998Z",
     "shell.execute_reply.started": "2024-05-07T15:17:59.943409Z"
    },
    "papermill": {
     "duration": 0.149075,
     "end_time": "2024-05-08T16:46:16.560154",
     "exception": false,
     "start_time": "2024-05-08T16:46:16.411079",
     "status": "completed"
    },
    "tags": []
   },
   "outputs": [],
   "source": []
  },
  {
   "cell_type": "markdown",
   "id": "77a7a361",
   "metadata": {
    "execution": {
     "iopub.execute_input": "2024-05-07T05:39:07.812519Z",
     "iopub.status.busy": "2024-05-07T05:39:07.811953Z",
     "iopub.status.idle": "2024-05-07T05:39:08.909787Z",
     "shell.execute_reply": "2024-05-07T05:39:08.908125Z",
     "shell.execute_reply.started": "2024-05-07T05:39:07.812475Z"
    },
    "papermill": {
     "duration": 0.151805,
     "end_time": "2024-05-08T16:46:16.865878",
     "exception": false,
     "start_time": "2024-05-08T16:46:16.714073",
     "status": "completed"
    },
    "tags": []
   },
   "source": [
    "#!cat /kaggle/working/HiCMAE/preprocess/creamd_av.py"
   ]
  },
  {
   "cell_type": "code",
   "execution_count": 3,
   "id": "aab143fe",
   "metadata": {
    "execution": {
     "iopub.execute_input": "2024-05-08T16:46:17.175539Z",
     "iopub.status.busy": "2024-05-08T16:46:17.174371Z",
     "iopub.status.idle": "2024-05-08T16:46:18.500927Z",
     "shell.execute_reply": "2024-05-08T16:46:18.498039Z"
    },
    "papermill": {
     "duration": 1.487296,
     "end_time": "2024-05-08T16:46:18.506153",
     "exception": false,
     "start_time": "2024-05-08T16:46:17.018857",
     "status": "completed"
    },
    "tags": []
   },
   "outputs": [
    {
     "name": "stdout",
     "output_type": "stream",
     "text": [
      "/kaggle/working/HiCMAE\n",
      "You are not currently on a branch.\r\n",
      "Please specify which branch you want to merge with.\r\n",
      "See git-pull(1) for details.\r\n",
      "\r\n",
      "    git pull <remote> <branch>\r\n",
      "\r\n"
     ]
    }
   ],
   "source": [
    "%cd /kaggle/working/HiCMAE\n",
    "!git pull"
   ]
  },
  {
   "cell_type": "code",
   "execution_count": 4,
   "id": "ac5e6b47",
   "metadata": {
    "execution": {
     "iopub.execute_input": "2024-05-08T16:46:18.848258Z",
     "iopub.status.busy": "2024-05-08T16:46:18.847397Z",
     "iopub.status.idle": "2024-05-08T16:46:18.852885Z",
     "shell.execute_reply": "2024-05-08T16:46:18.851858Z"
    },
    "papermill": {
     "duration": 0.165807,
     "end_time": "2024-05-08T16:46:18.855565",
     "exception": false,
     "start_time": "2024-05-08T16:46:18.689758",
     "status": "completed"
    },
    "scrolled": true,
    "tags": []
   },
   "outputs": [],
   "source": [
    "#%cd /kaggle/working/HiCMAE/preprocess/ \n",
    "#!python creamd_av.py"
   ]
  },
  {
   "cell_type": "code",
   "execution_count": 5,
   "id": "b0f9b733",
   "metadata": {
    "execution": {
     "iopub.execute_input": "2024-05-08T16:46:19.163993Z",
     "iopub.status.busy": "2024-05-08T16:46:19.163020Z",
     "iopub.status.idle": "2024-05-08T16:46:44.023454Z",
     "shell.execute_reply": "2024-05-08T16:46:44.021903Z"
    },
    "papermill": {
     "duration": 25.021685,
     "end_time": "2024-05-08T16:46:44.027369",
     "exception": false,
     "start_time": "2024-05-08T16:46:19.005684",
     "status": "completed"
    },
    "scrolled": true,
    "tags": []
   },
   "outputs": [
    {
     "name": "stdout",
     "output_type": "stream",
     "text": [
      "/kaggle/working/HiCMAE\n",
      "Not using distributed mode\r\n",
      "Namespace(batch_size=2, epochs=5, update_freq=1, save_ckpt_freq=100, model='avit_dim512_patch16_160_a256', tubelet_size=2, input_size=160, drop=0.0, attn_drop_rate=0.0, drop_path=0.1, disable_eval_during_finetuning=False, model_ema=False, model_ema_decay=0.9999, model_ema_force_cpu=False, attn_type='joint', opt='adamw', opt_eps=1e-08, opt_betas=None, clip_grad=None, momentum=0.9, weight_decay=0.05, weight_decay_end=None, lr=0.001, layer_decay=0.75, warmup_lr=1e-06, min_lr=1e-06, warmup_epochs=5, warmup_steps=-1, color_jitter=0.4, num_sample=1, aa='rand-m7-n4-mstd0.5-inc1', smoothing=0.1, train_interpolation='bicubic', crop_pct=None, short_side_size=160, test_num_segment=5, test_num_crop=3, reprob=0.25, remode='pixel', recount=1, resplit=False, mixup=0.8, cutmix=1.0, cutmix_minmax=None, mixup_prob=1.0, mixup_switch_prob=0.5, mixup_mode='batch', finetune='/kaggle/working/HiCMAE/saved/model/pretraining/voxceleb2/audio_visual/hicmae_pretrain_base/checkpoint-99.pth', model_key='model|module', model_prefix='', init_scale=0.001, use_mean_pooling=True, data_path='/kaggle/working/HiCMAE/saved/data/crema-d/audio_visual/split01', eval_data_path=None, nb_classes=6, imagenet_default_mean_and_std=True, num_segments=1, num_frames=16, sampling_rate=4, data_set='CREMA-D', output_dir='.', log_dir=None, device='cpu', seed=0, resume='', auto_resume=True, save_ckpt=True, start_epoch=0, eval=False, dist_eval=False, num_workers=2, pin_mem=True, world_size=1, local_rank=-1, dist_on_itp=False, dist_url='env://', enable_deepspeed=False, val_metric='acc1', depth=1, depth_audio=1, input_size_audio=256, num_mel_bins=128, freqm=0, timem=0, roll_mag_aug=True, fusion_depth=1, save_feature=False, distributed=False)\r\n",
      "Traceback (most recent call last):\r\n",
      "  File \"/kaggle/working/HiCMAE/run_class_finetuning_av.py\", line 760, in <module>\r\n",
      "    main(opts, ds_init)\r\n",
      "  File \"/kaggle/working/HiCMAE/run_class_finetuning_av.py\", line 289, in main\r\n",
      "    dataset_train, args.nb_classes = build_dataset(is_train=True, test_mode=False, args=args)\r\n",
      "  File \"/kaggle/working/HiCMAE/datasets_av.py\", line 249, in build_dataset\r\n",
      "    dataset = VideoClsDatasetFrame(\r\n",
      "  File \"/kaggle/working/HiCMAE/kinetics_av.py\", line 327, in __init__\r\n",
      "    cleaned = pd.read_csv(self.anno_path, header=None, delimiter=' ')\r\n",
      "  File \"/opt/conda/lib/python3.10/site-packages/pandas/util/_decorators.py\", line 211, in wrapper\r\n",
      "    return func(*args, **kwargs)\r\n",
      "  File \"/opt/conda/lib/python3.10/site-packages/pandas/util/_decorators.py\", line 331, in wrapper\r\n",
      "    return func(*args, **kwargs)\r\n",
      "  File \"/opt/conda/lib/python3.10/site-packages/pandas/io/parsers/readers.py\", line 950, in read_csv\r\n",
      "    return _read(filepath_or_buffer, kwds)\r\n",
      "  File \"/opt/conda/lib/python3.10/site-packages/pandas/io/parsers/readers.py\", line 605, in _read\r\n",
      "    parser = TextFileReader(filepath_or_buffer, **kwds)\r\n",
      "  File \"/opt/conda/lib/python3.10/site-packages/pandas/io/parsers/readers.py\", line 1442, in __init__\r\n",
      "    self._engine = self._make_engine(f, self.engine)\r\n",
      "  File \"/opt/conda/lib/python3.10/site-packages/pandas/io/parsers/readers.py\", line 1735, in _make_engine\r\n",
      "    self.handles = get_handle(\r\n",
      "  File \"/opt/conda/lib/python3.10/site-packages/pandas/io/common.py\", line 856, in get_handle\r\n",
      "    handle = open(\r\n",
      "FileNotFoundError: [Errno 2] No such file or directory: '/kaggle/working/HiCMAE/saved/data/crema-d/audio_visual/split01/train.csv'\r\n"
     ]
    }
   ],
   "source": [
    "%cd /kaggle/working/HiCMAE\n",
    "!python run_class_finetuning_av.py --output_dir \".\" --finetune \"/kaggle/working/HiCMAE/saved/model/pretraining/voxceleb2/audio_visual/hicmae_pretrain_base/checkpoint-99.pth\" --num_workers=1 --device cpu --input_size 160 --num_sample 1 --nb_classes 6 --depth 1 --depth_audio 1 --fusion_depth 1 --data_set CREMA-D --batch_size 2 --num_workers 2 --epochs 5 --short_side_size 160 --data_path \"/kaggle/working/HiCMAE/saved/data/crema-d/audio_visual/split01\"\n",
    "#!bash /kaggle/working/HiCMAE/scripts/voxceleb2/audio_visual/hicmae_pretrain_base/cream-d/finetune_170.sh"
   ]
  },
  {
   "cell_type": "code",
   "execution_count": 6,
   "id": "9790a7a7",
   "metadata": {
    "execution": {
     "iopub.execute_input": "2024-05-08T16:46:44.358930Z",
     "iopub.status.busy": "2024-05-08T16:46:44.357744Z",
     "iopub.status.idle": "2024-05-08T16:46:45.469250Z",
     "shell.execute_reply": "2024-05-08T16:46:45.467251Z"
    },
    "papermill": {
     "duration": 1.28865,
     "end_time": "2024-05-08T16:46:45.472577",
     "exception": false,
     "start_time": "2024-05-08T16:46:44.183927",
     "status": "completed"
    },
    "tags": []
   },
   "outputs": [
    {
     "name": "stdout",
     "output_type": "stream",
     "text": [
      "root\r\n"
     ]
    }
   ],
   "source": [
    "!whoami"
   ]
  },
  {
   "cell_type": "code",
   "execution_count": 7,
   "id": "3fd81aef",
   "metadata": {
    "execution": {
     "iopub.execute_input": "2024-05-08T16:46:45.805800Z",
     "iopub.status.busy": "2024-05-08T16:46:45.804870Z",
     "iopub.status.idle": "2024-05-08T16:46:47.005136Z",
     "shell.execute_reply": "2024-05-08T16:46:47.002995Z"
    },
    "papermill": {
     "duration": 1.374661,
     "end_time": "2024-05-08T16:46:47.008605",
     "exception": false,
     "start_time": "2024-05-08T16:46:45.633944",
     "status": "completed"
    },
    "tags": []
   },
   "outputs": [
    {
     "name": "stdout",
     "output_type": "stream",
     "text": [
      "8535\n",
      "total 804\r\n",
      "drwxr-xr-x    2 nobody nogroup    0 May  7 04:26 .\r\n",
      "drwxr-xr-x 7444 nobody nogroup    0 May  7 04:33 ..\r\n",
      "-rw-r--r--    1 nobody nogroup 8535 May  7 04:26 frame_det_00_000001.jpg\r\n",
      "-rw-r--r--    1 nobody nogroup 8567 May  7 04:26 frame_det_00_000002.jpg\r\n",
      "-rw-r--r--    1 nobody nogroup 8555 May  7 04:26 frame_det_00_000003.jpg\r\n",
      "-rw-r--r--    1 nobody nogroup 8592 May  7 04:26 frame_det_00_000004.jpg\r\n",
      "-rw-r--r--    1 nobody nogroup 8578 May  7 04:26 frame_det_00_000005.jpg\r\n",
      "-rw-r--r--    1 nobody nogroup 8579 May  7 04:26 frame_det_00_000006.jpg\r\n",
      "-rw-r--r--    1 nobody nogroup 8592 May  7 04:26 frame_det_00_000007.jpg\r\n",
      "-rw-r--r--    1 nobody nogroup 8596 May  7 04:26 frame_det_00_000008.jpg\r\n",
      "-rw-r--r--    1 nobody nogroup 8645 May  7 04:26 frame_det_00_000009.jpg\r\n",
      "-rw-r--r--    1 nobody nogroup 8622 May  7 04:26 frame_det_00_000010.jpg\r\n",
      "-rw-r--r--    1 nobody nogroup 8505 May  7 04:26 frame_det_00_000011.jpg\r\n",
      "-rw-r--r--    1 nobody nogroup 8379 May  7 04:26 frame_det_00_000012.jpg\r\n",
      "-rw-r--r--    1 nobody nogroup 8471 May  7 04:26 frame_det_00_000013.jpg\r\n",
      "-rw-r--r--    1 nobody nogroup 8378 May  7 04:26 frame_det_00_000014.jpg\r\n",
      "-rw-r--r--    1 nobody nogroup 8295 May  7 04:26 frame_det_00_000015.jpg\r\n",
      "-rw-r--r--    1 nobody nogroup 8411 May  7 04:26 frame_det_00_000016.jpg\r\n",
      "-rw-r--r--    1 nobody nogroup 8356 May  7 04:26 frame_det_00_000017.jpg\r\n",
      "-rw-r--r--    1 nobody nogroup 8503 May  7 04:26 frame_det_00_000018.jpg\r\n",
      "-rw-r--r--    1 nobody nogroup 8480 May  7 04:26 frame_det_00_000019.jpg\r\n",
      "-rw-r--r--    1 nobody nogroup 8447 May  7 04:26 frame_det_00_000020.jpg\r\n",
      "-rw-r--r--    1 nobody nogroup 8563 May  7 04:26 frame_det_00_000021.jpg\r\n",
      "-rw-r--r--    1 nobody nogroup 8686 May  7 04:26 frame_det_00_000022.jpg\r\n",
      "-rw-r--r--    1 nobody nogroup 8716 May  7 04:26 frame_det_00_000023.jpg\r\n",
      "-rw-r--r--    1 nobody nogroup 8782 May  7 04:26 frame_det_00_000024.jpg\r\n",
      "-rw-r--r--    1 nobody nogroup 8779 May  7 04:26 frame_det_00_000025.jpg\r\n",
      "-rw-r--r--    1 nobody nogroup 8721 May  7 04:26 frame_det_00_000026.jpg\r\n",
      "-rw-r--r--    1 nobody nogroup 8759 May  7 04:26 frame_det_00_000027.jpg\r\n",
      "-rw-r--r--    1 nobody nogroup 8852 May  7 04:26 frame_det_00_000028.jpg\r\n",
      "-rw-r--r--    1 nobody nogroup 8654 May  7 04:26 frame_det_00_000029.jpg\r\n",
      "-rw-r--r--    1 nobody nogroup 8697 May  7 04:26 frame_det_00_000030.jpg\r\n",
      "-rw-r--r--    1 nobody nogroup 8759 May  7 04:26 frame_det_00_000031.jpg\r\n",
      "-rw-r--r--    1 nobody nogroup 8779 May  7 04:26 frame_det_00_000032.jpg\r\n",
      "-rw-r--r--    1 nobody nogroup 8789 May  7 04:26 frame_det_00_000033.jpg\r\n",
      "-rw-r--r--    1 nobody nogroup 8785 May  7 04:26 frame_det_00_000034.jpg\r\n",
      "-rw-r--r--    1 nobody nogroup 8629 May  7 04:26 frame_det_00_000035.jpg\r\n",
      "-rw-r--r--    1 nobody nogroup 8786 May  7 04:26 frame_det_00_000036.jpg\r\n",
      "-rw-r--r--    1 nobody nogroup 8873 May  7 04:26 frame_det_00_000037.jpg\r\n",
      "-rw-r--r--    1 nobody nogroup 8681 May  7 04:26 frame_det_00_000038.jpg\r\n",
      "-rw-r--r--    1 nobody nogroup 8652 May  7 04:26 frame_det_00_000039.jpg\r\n",
      "-rw-r--r--    1 nobody nogroup 8812 May  7 04:26 frame_det_00_000040.jpg\r\n",
      "-rw-r--r--    1 nobody nogroup 8692 May  7 04:26 frame_det_00_000041.jpg\r\n",
      "-rw-r--r--    1 nobody nogroup 8721 May  7 04:26 frame_det_00_000042.jpg\r\n",
      "-rw-r--r--    1 nobody nogroup 8745 May  7 04:26 frame_det_00_000043.jpg\r\n",
      "-rw-r--r--    1 nobody nogroup 8762 May  7 04:26 frame_det_00_000044.jpg\r\n",
      "-rw-r--r--    1 nobody nogroup 8817 May  7 04:26 frame_det_00_000045.jpg\r\n",
      "-rw-r--r--    1 nobody nogroup 8824 May  7 04:26 frame_det_00_000046.jpg\r\n",
      "-rw-r--r--    1 nobody nogroup 8731 May  7 04:26 frame_det_00_000047.jpg\r\n",
      "-rw-r--r--    1 nobody nogroup 8634 May  7 04:26 frame_det_00_000048.jpg\r\n",
      "-rw-r--r--    1 nobody nogroup 8562 May  7 04:26 frame_det_00_000049.jpg\r\n",
      "-rw-r--r--    1 nobody nogroup 8512 May  7 04:26 frame_det_00_000050.jpg\r\n",
      "-rw-r--r--    1 nobody nogroup 8616 May  7 04:26 frame_det_00_000051.jpg\r\n",
      "-rw-r--r--    1 nobody nogroup 8638 May  7 04:26 frame_det_00_000052.jpg\r\n",
      "-rw-r--r--    1 nobody nogroup 8626 May  7 04:26 frame_det_00_000053.jpg\r\n",
      "-rw-r--r--    1 nobody nogroup 8723 May  7 04:26 frame_det_00_000054.jpg\r\n",
      "-rw-r--r--    1 nobody nogroup 8762 May  7 04:26 frame_det_00_000055.jpg\r\n",
      "-rw-r--r--    1 nobody nogroup 8826 May  7 04:26 frame_det_00_000056.jpg\r\n",
      "-rw-r--r--    1 nobody nogroup 8848 May  7 04:26 frame_det_00_000057.jpg\r\n",
      "-rw-r--r--    1 nobody nogroup 8923 May  7 04:26 frame_det_00_000058.jpg\r\n",
      "-rw-r--r--    1 nobody nogroup 8973 May  7 04:26 frame_det_00_000059.jpg\r\n",
      "-rw-r--r--    1 nobody nogroup 9018 May  7 04:26 frame_det_00_000060.jpg\r\n",
      "-rw-r--r--    1 nobody nogroup 8994 May  7 04:26 frame_det_00_000061.jpg\r\n",
      "-rw-r--r--    1 nobody nogroup 8860 May  7 04:26 frame_det_00_000062.jpg\r\n",
      "-rw-r--r--    1 nobody nogroup 8850 May  7 04:26 frame_det_00_000063.jpg\r\n",
      "-rw-r--r--    1 nobody nogroup 8928 May  7 04:26 frame_det_00_000064.jpg\r\n",
      "-rw-r--r--    1 nobody nogroup 8929 May  7 04:26 frame_det_00_000065.jpg\r\n",
      "-rw-r--r--    1 nobody nogroup 8969 May  7 04:26 frame_det_00_000066.jpg\r\n",
      "-rw-r--r--    1 nobody nogroup 8891 May  7 04:26 frame_det_00_000067.jpg\r\n"
     ]
    }
   ],
   "source": [
    "import os\n",
    "print(os.path.getsize('/kaggle/input/crema-d-1/face_aligned/1001_DFA_ANG_XX/frame_det_00_000001.jpg'))\n",
    "!ls -al /kaggle/input/crema-d-1/face_aligned/1001_DFA_ANG_XX"
   ]
  },
  {
   "cell_type": "markdown",
   "id": "b36c2167",
   "metadata": {
    "execution": {
     "iopub.execute_input": "2024-05-07T05:17:41.121174Z",
     "iopub.status.busy": "2024-05-07T05:17:41.120595Z",
     "iopub.status.idle": "2024-05-07T05:17:54.515599Z",
     "shell.execute_reply": "2024-05-07T05:17:54.514055Z",
     "shell.execute_reply.started": "2024-05-07T05:17:41.121129Z"
    },
    "papermill": {
     "duration": 0.162669,
     "end_time": "2024-05-08T16:46:47.326778",
     "exception": false,
     "start_time": "2024-05-08T16:46:47.164109",
     "status": "completed"
    },
    "tags": []
   },
   "source": [
    "!bash -v scripts/voxceleb2/audio_visual/hicmae_pretrain_base/cream-d/finetune_170.sh"
   ]
  },
  {
   "cell_type": "markdown",
   "id": "f0803b20",
   "metadata": {
    "papermill": {
     "duration": 0.1532,
     "end_time": "2024-05-08T16:46:47.634898",
     "exception": false,
     "start_time": "2024-05-08T16:46:47.481698",
     "status": "completed"
    },
    "tags": []
   },
   "source": [
    "!conda install -y gdown\n",
    "!gdown --id 1LJiP91WG1bT2Cm981c7EcAWmGDMqm1DH\n",
    "!kaggle datasets download -d ejlok1/cremad\n",
    "\n",
    "!unzip face_aligned.zip \n",
    "!unzip cremad.zip\n",
    "\n",
    "!zip -r CREMA-D.zip face_aligned AudioWAV\n",
    "!rm -r AudioWAV face_aligned\n",
    "!rm cremad.zip /kaggle/working/crema-d-extracted-face.zip /kaggle/working/face_aligned.zip"
   ]
  },
  {
   "cell_type": "markdown",
   "id": "2ee48cd3",
   "metadata": {
    "execution": {
     "iopub.execute_input": "2024-05-06T16:06:21.421168Z",
     "iopub.status.busy": "2024-05-06T16:06:21.420668Z",
     "iopub.status.idle": "2024-05-06T16:06:21.430943Z",
     "shell.execute_reply": "2024-05-06T16:06:21.429652Z",
     "shell.execute_reply.started": "2024-05-06T16:06:21.421136Z"
    },
    "papermill": {
     "duration": 0.155683,
     "end_time": "2024-05-08T16:46:47.949687",
     "exception": false,
     "start_time": "2024-05-08T16:46:47.794004",
     "status": "completed"
    },
    "tags": []
   },
   "source": [
    "from IPython.display import FileLink\n",
    "FileLink('/kaggle/working/CREMA-D.zip')"
   ]
  }
 ],
 "metadata": {
  "kaggle": {
   "accelerator": "none",
   "dataSources": [
    {
     "datasetId": 4952041,
     "sourceId": 8338203,
     "sourceType": "datasetVersion"
    }
   ],
   "dockerImageVersionId": 30698,
   "isGpuEnabled": false,
   "isInternetEnabled": true,
   "language": "python",
   "sourceType": "notebook"
  },
  "kernelspec": {
   "display_name": "Python 3",
   "language": "python",
   "name": "python3"
  },
  "language_info": {
   "codemirror_mode": {
    "name": "ipython",
    "version": 3
   },
   "file_extension": ".py",
   "mimetype": "text/x-python",
   "name": "python",
   "nbconvert_exporter": "python",
   "pygments_lexer": "ipython3",
   "version": "3.10.13"
  },
  "papermill": {
   "default_parameters": {},
   "duration": 388.712317,
   "end_time": "2024-05-08T16:46:48.730591",
   "environment_variables": {},
   "exception": null,
   "input_path": "__notebook__.ipynb",
   "output_path": "__notebook__.ipynb",
   "parameters": {},
   "start_time": "2024-05-08T16:40:20.018274",
   "version": "2.5.0"
  }
 },
 "nbformat": 4,
 "nbformat_minor": 5
}
